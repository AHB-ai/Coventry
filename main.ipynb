{
 "cells": [
  {
   "cell_type": "code",
   "execution_count": 2,
   "metadata": {
    "tags": []
   },
   "outputs": [],
   "source": [
    "from bs4 import BeautifulSoup \n",
    "import requests "
   ]
  },
  {
   "cell_type": "code",
   "execution_count": 2,
   "metadata": {
    "tags": []
   },
   "outputs": [],
   "source": [
    "response = requests.get(\"https://www.coventry.gov.uk\")"
   ]
  },
  {
   "cell_type": "code",
   "execution_count": 3,
   "metadata": {
    "tags": []
   },
   "outputs": [],
   "source": [
    "#  Birinchi sahifadagi linklar\n",
    "soup = BeautifulSoup(response.text,'html.parser')\n",
    "letter_links = soup.find_all(\"a\",class_ =\"button button--secondary\")\n"
   ]
  },
  {
   "cell_type": "code",
   "execution_count": 8,
   "metadata": {},
   "outputs": [],
   "source": [
    "filtered_links = [\"https://www.coventry.gov.uk\" + i['href'] for i in letter_links]"
   ]
  },
  {
   "cell_type": "code",
   "execution_count": 9,
   "metadata": {},
   "outputs": [
    {
     "data": {
      "text/plain": [
       "['https://www.coventry.gov.uk/a-to-z/A',\n",
       " 'https://www.coventry.gov.uk/a-to-z/B',\n",
       " 'https://www.coventry.gov.uk/a-to-z/C',\n",
       " 'https://www.coventry.gov.uk/a-to-z/D',\n",
       " 'https://www.coventry.gov.uk/a-to-z/E',\n",
       " 'https://www.coventry.gov.uk/a-to-z/F',\n",
       " 'https://www.coventry.gov.uk/a-to-z/G',\n",
       " 'https://www.coventry.gov.uk/a-to-z/H',\n",
       " 'https://www.coventry.gov.uk/a-to-z/I',\n",
       " 'https://www.coventry.gov.uk/a-to-z/J',\n",
       " 'https://www.coventry.gov.uk/a-to-z/K',\n",
       " 'https://www.coventry.gov.uk/a-to-z/L',\n",
       " 'https://www.coventry.gov.uk/a-to-z/M',\n",
       " 'https://www.coventry.gov.uk/a-to-z/N',\n",
       " 'https://www.coventry.gov.uk/a-to-z/O',\n",
       " 'https://www.coventry.gov.uk/a-to-z/P',\n",
       " 'https://www.coventry.gov.uk/a-to-z/R',\n",
       " 'https://www.coventry.gov.uk/a-to-z/S',\n",
       " 'https://www.coventry.gov.uk/a-to-z/T',\n",
       " 'https://www.coventry.gov.uk/a-to-z/U',\n",
       " 'https://www.coventry.gov.uk/a-to-z/V',\n",
       " 'https://www.coventry.gov.uk/a-to-z/W',\n",
       " 'https://www.coventry.gov.uk/a-to-z/Y']"
      ]
     },
     "execution_count": 9,
     "metadata": {},
     "output_type": "execute_result"
    }
   ],
   "source": [
    "filtered_links"
   ]
  },
  {
   "cell_type": "code",
   "execution_count": 2,
   "metadata": {},
   "outputs": [],
   "source": [
    "response = requests.get(\"https://www.coventry.gov.uk/a-to-z/A\")\n",
    "soup = BeautifulSoup(response.text)"
   ]
  },
  {
   "cell_type": "code",
   "execution_count": 6,
   "metadata": {},
   "outputs": [
    {
     "data": {
      "text/plain": [
       "<a class=\"list__link\" href=\"/childrenandfamilies\">Children and families</a>"
      ]
     },
     "execution_count": 6,
     "metadata": {},
     "output_type": "execute_result"
    }
   ],
   "source": [
    "soup.find_all(\"a\",class_ =\"list__link\")[8]"
   ]
  },
  {
   "cell_type": "code",
   "execution_count": 9,
   "metadata": {
    "tags": []
   },
   "outputs": [],
   "source": [
    "response = requests.get(\"https://www.coventry.gov.uk/a-to-z/A\")"
   ]
  },
  {
   "cell_type": "code",
   "execution_count": 10,
   "metadata": {
    "tags": []
   },
   "outputs": [],
   "source": [
    "soup = BeautifulSoup(response.text,'html.parser')"
   ]
  },
  {
   "cell_type": "code",
   "execution_count": 11,
   "metadata": {
    "tags": []
   },
   "outputs": [
    {
     "name": "stdout",
     "output_type": "stream",
     "text": [
      "/a-to-z/service/87/abandoned-vehicles\n",
      "/a-to-z/service/349/abuse-adults\n",
      "/a-to-z/service/847/abuse-children\n",
      "/a-to-z/service/403/accessibility-website\n",
      "/a-to-z/service/534/accounts-inspection\n",
      "/a-to-z/service/876/address-change\n",
      "/a-to-z/service/49/adoption\n",
      "/a-to-z/service/54/adult-carers\n",
      "/a-to-z/service/211/adult-education\n",
      "/a-to-z/service/951/adult-social-care\n",
      "/a-to-z/service/89/air-pollution\n",
      "/a-to-z/service/89/air-quality\n",
      "/a-to-z/service/421/alcohol-advice-and-support\n",
      "/a-to-z/service/999/alcohol-misuse-support\n",
      "/a-to-z/service/821/allesley-parish-council\n",
      "/a-to-z/service/151/allotments\n",
      "/a-to-z/service/718/allowances-and-expenses-for-councillors\n",
      "/a-to-z/service/1037/alternative-learning-opportunities\n",
      "/a-to-z/service/106/animals\n",
      "/a-to-z/service/862/annual-accounts\n",
      "/a-to-z/service/736/anti-social-behaviour\n",
      "/a-to-z/service/958/apprenticeships\n",
      "/a-to-z/service/230/archaeology-\n",
      "/a-to-z/service/195/archives\n",
      "/a-to-z/service/935/armed-forces-support\n",
      "/a-to-z/service/1039/arts-and-culture\n",
      "/a-to-z/service/887/asbestos\n",
      "/a-to-z/service/1050/asylum-seekers\n",
      "/a-to-z/service/1078/attendance-and-inclusion\n",
      "/a-to-z/service/860/audit-and-procurement-committee-\n",
      "/a-to-z/service/1089/avian-influenza\n",
      "/a-to-z/service/369/award-of-merit\n"
     ]
    }
   ],
   "source": [
    "all_links = soup.find_all(\"a\",class_=\"list__link\")\n",
    "\n",
    "for i in range(len(all_links)):\n",
    "    if all_links[i]['href'].startswith('/a-to-z/service'):\n",
    "        print(all_links[i]['href'])"
   ]
  },
  {
   "cell_type": "code",
   "execution_count": 22,
   "metadata": {
    "tags": []
   },
   "outputs": [],
   "source": [
    "all_links = soup.find_all(\"a\",class_ = \"list__link\")"
   ]
  },
  {
   "cell_type": "code",
   "execution_count": 25,
   "metadata": {
    "tags": []
   },
   "outputs": [
    {
     "name": "stdout",
     "output_type": "stream",
     "text": [
      "/safeguarding-adults-1/worried-someone-know-harmed-neglected/5\n"
     ]
    }
   ],
   "source": [
    "for i in all_links:\n",
    "    if i['href'].endswith(\"/5\"):\n",
    "        print(i['href'])"
   ]
  },
  {
   "cell_type": "code",
   "execution_count": 39,
   "metadata": {
    "tags": []
   },
   "outputs": [],
   "source": [
    "response = requests.get(\"https://www.coventry.gov.uk/street-scene/abandoned-vehicles/5\")\n",
    "soup = BeautifulSoup(response.text,'html.parser')"
   ]
  },
  {
   "cell_type": "code",
   "execution_count": 40,
   "metadata": {
    "tags": []
   },
   "outputs": [
    {
     "name": "stdout",
     "output_type": "stream",
     "text": [
      "The V5 Vehicle Registration Document (log book)\n",
      "Confirmation that the vehicle has been SORN\n",
      "A valid certificate of insurance\n",
      "A bill of sale or similar verifiable evidence of purchase\n",
      "A current MOT certificate\n",
      "Removal of vehicle - £150+VAT (national charge)\n",
      "Storage - £20 + VAT per day\n",
      "Return of vehicle - £45 + VAT\n",
      "Return of vehicle (same day) - £45 + VAT\n"
     ]
    }
   ],
   "source": [
    "li_tags = soup.find_all('li')\n",
    "li_tags_without_class = [tag for tag in li_tags if not tag.get(\"class\")]\n",
    "\n",
    "# Step 5: Extract data from filtered <li> tags\n",
    "for li_tag in li_tags_without_class:\n",
    "    print(li_tag.text.strip())"
   ]
  },
  {
   "cell_type": "code",
   "execution_count": 45,
   "metadata": {
    "tags": []
   },
   "outputs": [
    {
     "name": "stdout",
     "output_type": "stream",
     "text": [
      "If you wish to recover your vehicle you must bring proof of your identity that includes a photograph, such as a passport or photo driving licence, proof of your address and at least two of the following:\n",
      "You will also have to pay to recover the vehicle. The charges are as follows:\n",
      "We consider that property inside an abandoned vehicle is abandoned with the vehicle. Vehicles and their contents are crushed as a whole.\n",
      "The vehicle was reported as abandoned and an inspection has deemed it as abandoned because it met our guidelines for abandoned vehicles, which are outlined at the start of this article.\n",
      "We can remove vehicles from private land providing they meet the abandonment threshold and we have the permission of the land owner (this does not include untaxed/SORN vehicles on private land). If your vehicle was in open air on private land the landowner may be served a fifteen-day notice warning them of intention to remove the vehicle. The landowner can contact us to have the vehicle removed before the expiry date of the notice if they wish.\n",
      "All registered social landlords in Coventry [Citizen Housing, Midland Heart and Orbit etc] have given permission for vehicles deemed to be abandoned on their land to be removed following investigation.\n",
      "Abandoning a vehicle is an offence. Abandoned vehicles are removed immediately, without notice unless they are on private land. Previously notices were put on vehicles warning owners they were going to be removed but this tended to encourage theft or damage so now notices are not left.\n"
     ]
    }
   ],
   "source": [
    "p = soup.find_all(\"p\")\n",
    "p_without_class = [tag for tag in p if not tag.get(\"class\")]\n",
    "\n",
    "# Step 5: Extract data from filtered <li> tags\n",
    "for li_tag in p_without_class:\n",
    "    print(li_tag.text.strip())"
   ]
  },
  {
   "cell_type": "code",
   "execution_count": 42,
   "metadata": {
    "tags": []
   },
   "outputs": [
    {
     "data": {
      "text/plain": [
       "[<p>If you wish to recover your vehicle you must bring proof of your identity that includes a photograph, such as a passport or photo driving licence, proof of your address and at least two of the following:</p>,\n",
       " <p><strong>You will also have to pay to recover the vehicle. The charges are as follows:</strong></p>,\n",
       " <p>We consider that property inside an abandoned vehicle is abandoned with the vehicle. Vehicles and their contents are crushed as a whole.</p>,\n",
       " <p>The vehicle was reported as abandoned and an inspection has deemed it as abandoned because it met our guidelines for abandoned vehicles, which are outlined at the start of this article.</p>,\n",
       " <p>We can remove vehicles from private land providing they meet the abandonment threshold and we have the permission of the land owner (this does not include untaxed/SORN vehicles on private land). If your vehicle was in open air on private land the landowner may be served a fifteen-day notice warning them of intention to remove the vehicle. The landowner can contact us to have the vehicle removed before the expiry date of the notice if they wish.</p>,\n",
       " <p>All registered social landlords in Coventry [Citizen Housing, Midland Heart and Orbit etc] have given permission for vehicles <strong>deemed to be abandoned</strong> on their land to be removed following investigation.</p>,\n",
       " <p>Abandoning a vehicle is an offence. Abandoned vehicles are removed immediately, without notice unless they are on private land. Previously notices were put on vehicles warning owners they were going to be removed but this tended to encourage theft or damage so now notices are not left.</p>,\n",
       " <p class=\"supplement__text\">Open 9am–5pm Monday to Friday (excluding bank holidays). If you do need to call us, please try to avoid our busiest times of lunchtime and early afternoon. Many queries relating to Council Tax, benefits or bin and bulky waste collections can be dealt with directly by logging into My Account.</p>,\n",
       " <p class=\"meta meta--telephone\">\n",
       " <strong>Telephone:</strong> <a href=\"tel:08085834333\">08085 834333</a>\n",
       " </p>,\n",
       " <p class=\"site-footer__text site-footer__rights\">2024 © Coventry City Council</p>]"
      ]
     },
     "execution_count": 42,
     "metadata": {},
     "output_type": "execute_result"
    }
   ],
   "source": [
    "p"
   ]
  },
  {
   "cell_type": "code",
   "execution_count": 1,
   "metadata": {},
   "outputs": [],
   "source": [
    "import pandas as pd\n",
    "\n",
    "df1 = pd.read_csv(\"FeaturePipeline/data/service_urls.csv\",names=[\"cols\"])\n",
    "df2 = pd.read_csv(\"FeaturePipeline/data/service_links_filter.csv\",names=[\"cols\"])"
   ]
  },
  {
   "cell_type": "code",
   "execution_count": 2,
   "metadata": {},
   "outputs": [],
   "source": [
    "df = pd.concat([df1,df2])"
   ]
  },
  {
   "cell_type": "code",
   "execution_count": 3,
   "metadata": {},
   "outputs": [
    {
     "data": {
      "text/plain": [
       "['/a-to-z/service/87/abandoned-vehicles',\n",
       " '/a-to-z/service/349/abuse-adults',\n",
       " '/a-to-z/service/847/abuse-children',\n",
       " '/a-to-z/service/403/accessibility-website',\n",
       " '/a-to-z/service/534/accounts-inspection',\n",
       " '/a-to-z/service/876/address-change',\n",
       " '/a-to-z/service/49/adoption',\n",
       " '/a-to-z/service/54/adult-carers',\n",
       " '/a-to-z/service/211/adult-education',\n",
       " '/a-to-z/service/951/adult-social-care',\n",
       " '/a-to-z/service/89/air-pollution',\n",
       " '/a-to-z/service/89/air-quality',\n",
       " '/a-to-z/service/421/alcohol-advice-and-support',\n",
       " '/a-to-z/service/999/alcohol-misuse-support',\n",
       " '/a-to-z/service/821/allesley-parish-council',\n",
       " '/a-to-z/service/151/allotments',\n",
       " '/a-to-z/service/718/allowances-and-expenses-for-councillors',\n",
       " '/a-to-z/service/1037/alternative-learning-opportunities',\n",
       " '/a-to-z/service/106/animals',\n",
       " '/a-to-z/service/862/annual-accounts',\n",
       " '/a-to-z/service/736/anti-social-behaviour',\n",
       " '/a-to-z/service/958/apprenticeships',\n",
       " '/a-to-z/service/230/archaeology-',\n",
       " '/a-to-z/service/195/archives',\n",
       " '/a-to-z/service/935/armed-forces-support',\n",
       " '/a-to-z/service/1039/arts-and-culture',\n",
       " '/a-to-z/service/887/asbestos',\n",
       " '/a-to-z/service/1050/asylum-seekers',\n",
       " '/a-to-z/service/1078/attendance-and-inclusion',\n",
       " '/a-to-z/service/860/audit-and-procurement-committee-',\n",
       " '/a-to-z/service/1089/avian-influenza',\n",
       " '/a-to-z/service/369/award-of-merit',\n",
       " '/info/158/safeguarding_adults/1066/prevention_of_abuse_and_neglect',\n",
       " '/csab',\n",
       " '/info/158/safeguarding_adults/2785/my_safeguarding_experience',\n",
       " '/downloads/download/4244/safeguarding_adults_information_leaflets_and_posters',\n",
       " 'https://www.coventry.gov.uk/downloads/download/4349/safeguarding_adults_-_policy_and_procedures',\n",
       " '/info/76/carers_support/2456/carers_assessments',\n",
       " 'https://www.coventry.gov.uk/carersactionplan',\n",
       " '/info/76/carers/923/young_carers',\n",
       " 'https://www.coventry.gov.uk/health-wellbeing/vaccines',\n",
       " '/safeguardingadults',\n",
       " '/money-legal-matters',\n",
       " '/carers',\n",
       " 'https://www.coventry.gov.uk/care-support',\n",
       " 'https://www.coventry.gov.uk/mentalhealth',\n",
       " '/healthandwellbeing',\n",
       " '/gettingoutandabout',\n",
       " 'https://www.coventry.gov.uk/adultscid',\n",
       " 'https://www.coventry.gov.uk/work-related-learning/coventry-alternative-provision-CAP--1',\n",
       " 'https://www.coventry.gov.uk/directory/121/alternative-provision-directory-23-24',\n",
       " '/info/150/work_related_learning/3666/parents_and_carers',\n",
       " '/info/150/work_related_learning/3673/training_providers',\n",
       " '/info/150/work_related_learning/3672/schoolacademy_guide',\n",
       " '/info/150/work_related_learning/3687/students',\n",
       " '/info/64/animals_and_pests/358/animal_health',\n",
       " '/info/64/animals_and_pests/150/animal_welfare_service',\n",
       " 'https://www.coventry.gov.uk/animals-pests/adopting-dog',\n",
       " '/info/64/animals_and_pests/770/dangerous_dogs',\n",
       " '/info/64/animals_and_pests/771/microchipping_of_dogs',\n",
       " '/info/64/animals_and_pests/612/removal_of_dead_animals',\n",
       " '/info/201/street_scene/2984/public_space_protection_orders_pspo/4',\n",
       " 'https://cswprepared.org.uk/be-prepared/prepared-pets/',\n",
       " '/apprenticeships/',\n",
       " 'https://www.coventry.gov.uk/future-talent/graduates-students-programmes-coventry',\n",
       " 'https://www.coventry.gov.uk/future-talent/social-work-academy-3',\n",
       " 'https://www.coventry.gov.uk/arts-1/opportunities',\n",
       " '/culturalpartnerships',\n",
       " '/info/97/arts_and_culture/3565/coventry_cultural_strategy_2017-2027',\n",
       " '/publicart',\n",
       " '/info/51/welcome_to_coventry/548/newly_arrived_communities/2',\n",
       " '/info/51/welcome_to_coventry/548/newly_arrived_communities/3',\n",
       " '/info/51/welcome_to_coventry/548/newly_arrived_communities/8',\n",
       " '/info/51/welcome_to_coventry/548/newly_arrived_communities/4',\n",
       " '/info/51/welcome_to_coventry/548/newly_arrived_communities/5',\n",
       " '/info/51/welcome_to_coventry/548/newly_arrived_communities/11',\n",
       " '/info/51/welcome_to_coventry/548/newly_arrived_communities/7',\n",
       " '/info/51/welcome_to_coventry/548/newly_arrived_communities/9',\n",
       " '/info/51/welcome_to_coventry/548/newly_arrived_communities/10',\n",
       " 'https://www.coventry.gov.uk/ukrainianguests',\n",
       " '/LEAPprivacynotice',\n",
       " '/resettlementprivacynotice',\n",
       " 'https://www.coventry.gov.uk/immigration-asylum/health-access-refugee-programme',\n",
       " '/info/143/civic_recognition_and_awards/108/good_citizen_award',\n",
       " '/info/143/civic_recognition_and_awards/2103/the_coventry_award_of_merit']"
      ]
     },
     "execution_count": 3,
     "metadata": {},
     "output_type": "execute_result"
    }
   ],
   "source": [
    "df['cols'].values.tolist()"
   ]
  },
  {
   "cell_type": "code",
   "execution_count": 6,
   "metadata": {},
   "outputs": [
    {
     "data": {
      "text/plain": [
       "(53, 1)"
      ]
     },
     "execution_count": 6,
     "metadata": {},
     "output_type": "execute_result"
    }
   ],
   "source": [
    "df2.shape"
   ]
  },
  {
   "cell_type": "code",
   "execution_count": 4,
   "metadata": {},
   "outputs": [],
   "source": [
    "df['cols'] = df['cols'].apply(lambda x: \"https://www.coventry.gov.uk\" + x if not x.startswith(\"https://www.coventry.gov.uk/\") else x)\n"
   ]
  },
  {
   "cell_type": "code",
   "execution_count": 5,
   "metadata": {},
   "outputs": [
    {
     "data": {
      "text/plain": [
       "0"
      ]
     },
     "execution_count": 5,
     "metadata": {},
     "output_type": "execute_result"
    }
   ],
   "source": [
    "df.duplicated().sum()"
   ]
  },
  {
   "cell_type": "code",
   "execution_count": 6,
   "metadata": {},
   "outputs": [
    {
     "data": {
      "text/plain": [
       "(32, 1)"
      ]
     },
     "execution_count": 6,
     "metadata": {},
     "output_type": "execute_result"
    }
   ],
   "source": [
    "df1.shape"
   ]
  },
  {
   "cell_type": "code",
   "execution_count": 7,
   "metadata": {},
   "outputs": [
    {
     "data": {
      "text/plain": [
       "(85, 1)"
      ]
     },
     "execution_count": 7,
     "metadata": {},
     "output_type": "execute_result"
    }
   ],
   "source": [
    "df.shape"
   ]
  },
  {
   "cell_type": "code",
   "execution_count": 2,
   "metadata": {},
   "outputs": [
    {
     "data": {
      "text/html": [
       "<div>\n",
       "<style scoped>\n",
       "    .dataframe tbody tr th:only-of-type {\n",
       "        vertical-align: middle;\n",
       "    }\n",
       "\n",
       "    .dataframe tbody tr th {\n",
       "        vertical-align: top;\n",
       "    }\n",
       "\n",
       "    .dataframe thead th {\n",
       "        text-align: right;\n",
       "    }\n",
       "</style>\n",
       "<table border=\"1\" class=\"dataframe\">\n",
       "  <thead>\n",
       "    <tr style=\"text-align: right;\">\n",
       "      <th></th>\n",
       "      <th>Link</th>\n",
       "      <th>Text</th>\n",
       "    </tr>\n",
       "  </thead>\n",
       "  <tbody>\n",
       "    <tr>\n",
       "      <th>0</th>\n",
       "      <td>https://www.coventry.gov.uk/a-to-z/service/87/...</td>\n",
       "      <td>We inspect and remove abandoned vehicles fro...</td>\n",
       "    </tr>\n",
       "    <tr>\n",
       "      <th>1</th>\n",
       "      <td>https://www.coventry.gov.uk/a-to-z/service/847...</td>\n",
       "      <td>Any bruising to a baby - pre-walking stage Mu...</td>\n",
       "    </tr>\n",
       "    <tr>\n",
       "      <th>2</th>\n",
       "      <td>https://www.coventry.gov.uk/a-to-z/service/403...</td>\n",
       "      <td>change colours, contrast levels and fonts zoo...</td>\n",
       "    </tr>\n",
       "    <tr>\n",
       "      <th>3</th>\n",
       "      <td>https://www.coventry.gov.uk/a-to-z/service/534...</td>\n",
       "      <td>Statement of Accounts for 2020-21 (Draft) – s...</td>\n",
       "    </tr>\n",
       "    <tr>\n",
       "      <th>4</th>\n",
       "      <td>https://www.coventry.gov.uk/a-to-z/service/876...</td>\n",
       "      <td>Council Tax Electoral roll Housing benefit an...</td>\n",
       "    </tr>\n",
       "  </tbody>\n",
       "</table>\n",
       "</div>"
      ],
      "text/plain": [
       "                                                Link  \\\n",
       "0  https://www.coventry.gov.uk/a-to-z/service/87/...   \n",
       "1  https://www.coventry.gov.uk/a-to-z/service/847...   \n",
       "2  https://www.coventry.gov.uk/a-to-z/service/403...   \n",
       "3  https://www.coventry.gov.uk/a-to-z/service/534...   \n",
       "4  https://www.coventry.gov.uk/a-to-z/service/876...   \n",
       "\n",
       "                                                Text  \n",
       "0    We inspect and remove abandoned vehicles fro...  \n",
       "1   Any bruising to a baby - pre-walking stage Mu...  \n",
       "2   change colours, contrast levels and fonts zoo...  \n",
       "3   Statement of Accounts for 2020-21 (Draft) – s...  \n",
       "4   Council Tax Electoral roll Housing benefit an...  "
      ]
     },
     "execution_count": 2,
     "metadata": {},
     "output_type": "execute_result"
    }
   ],
   "source": [
    "df_content = pd.read_csv(\"FeaturePipeline/data/crawled_content.csv\")\n",
    "df_content.head()"
   ]
  },
  {
   "cell_type": "code",
   "execution_count": 3,
   "metadata": {},
   "outputs": [
    {
     "data": {
      "text/plain": [
       "'  We inspect and remove abandoned vehicles from the streets of Coventry. It is illegal to abandon a vehicle and we class an abandoned vehicle as one that has been left by the owner / registered\\xa0keeper\\xa0\\xa0with no intention to recover or accept responsibility for it. We have a duty to remove an abandoned vehicle. Trailers and caravans that would normally be attached to a vehicle can also be classed as abandoned vehicles. '"
      ]
     },
     "execution_count": 3,
     "metadata": {},
     "output_type": "execute_result"
    }
   ],
   "source": [
    "df_content['Text'][0]"
   ]
  },
  {
   "cell_type": "code",
   "execution_count": null,
   "metadata": {},
   "outputs": [],
   "source": []
  }
 ],
 "metadata": {
  "kernelspec": {
   "display_name": "Python 3 (ipykernel)",
   "language": "python",
   "name": "python3"
  },
  "language_info": {
   "codemirror_mode": {
    "name": "ipython",
    "version": 3
   },
   "file_extension": ".py",
   "mimetype": "text/x-python",
   "name": "python",
   "nbconvert_exporter": "python",
   "pygments_lexer": "ipython3",
   "version": "3.10.5"
  }
 },
 "nbformat": 4,
 "nbformat_minor": 4
}
